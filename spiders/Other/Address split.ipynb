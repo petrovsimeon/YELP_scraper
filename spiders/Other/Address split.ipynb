{
 "cells": [
  {
   "cell_type": "code",
   "execution_count": 1,
   "metadata": {},
   "outputs": [],
   "source": [
    "import numpy as np\n",
    "import pandas as pd\n",
    "import xlsxwriter\n",
    "from datetime import datetime\n",
    "import re"
   ]
  },
  {
   "cell_type": "code",
   "execution_count": 2,
   "metadata": {},
   "outputs": [
    {
     "name": "stdout",
     "output_type": "stream",
     "text": [
      "Output file created.\n"
     ]
    }
   ],
   "source": [
    "datestring = datetime.strftime(datetime.now(), '%Y-%m-%d')\n",
    "output_file = xlsxwriter.Workbook('Addresses separated ' + str(datestring)+ '.xlsx')\n",
    "worksheet = output_file.add_worksheet()\n",
    "\n",
    "column_names = ['Address 1', 'Address 2', 'City', 'County', 'Postcode', 'Country']\n",
    "\n",
    "# Defining rows and columns\n",
    "row = 0\n",
    "col = 0\n",
    "\n",
    "# Creating column names\n",
    "for name in column_names:\n",
    "    worksheet.write(row, col, name)\n",
    "    col += 1\n",
    "\n",
    "row = 1\n",
    "counter = 0\n",
    "print('Output file created.')"
   ]
  },
  {
   "cell_type": "code",
   "execution_count": 5,
   "metadata": {},
   "outputs": [
    {
     "name": "stdout",
     "output_type": "stream",
     "text": [
      "14197 Lines of addresses imported\n",
      "Counties and towns imported!\n"
     ]
    }
   ],
   "source": [
    "file = pd.read_excel('Cleaned results - no duplicates.xlsx')\n",
    "address_lines = file['Address'].tolist()\n",
    "print(str(len(address_lines)) + ' Lines of addresses imported')\n",
    "\n",
    "county_city_database = pd.read_excel('Counties and cities UK.xlsx')\n",
    "counties_list = county_city_database['County']\n",
    "towns_list = county_city_database['Town']\n",
    "print('Counties and towns imported!')\n"
   ]
  },
  {
   "cell_type": "code",
   "execution_count": 25,
   "metadata": {},
   "outputs": [
    {
     "name": "stdout",
     "output_type": "stream",
     "text": [
      "SN1 4BG\n",
      "32, Swindon SN1 4BG\n",
      "S2 4QU\n",
      "72 John Street, Sheffield S2 4QU\n",
      "CF72 8PW\n",
      "north road, Pontyclun CF72 8PW, unit 2 rear of\n",
      "CF31 3TP\n",
      "unit 2 rear north road ind estate, Bridgend CF31 3TP, bridgend\n",
      "CF31 3TP\n",
      "unit 2 rear of, Swansea CF31 3TP, north road ind est swansea\n",
      "CF35 5PP\n",
      "6 gwalia road, Bridgend CF35 5PP, pencoed\n",
      "CF31 3TP\n",
      "north road, Cardiff CF31 3TP, unit 2 rear of\n",
      "CF31 3TP\n",
      "unit 2 rear of, Bridgend CF31 3TP, north road industrial estate\n",
      "SW16 1JA\n",
      "93B Kingscourt Road, London SW16 1JA\n",
      "N13 4BS\n",
      "483 Green Lanes, London N13 4BS\n"
     ]
    },
    {
     "ename": "IndexError",
     "evalue": "list index out of range",
     "output_type": "error",
     "traceback": [
      "\u001b[1;31m---------------------------------------------------------------------------\u001b[0m",
      "\u001b[1;31mIndexError\u001b[0m                                Traceback (most recent call last)",
      "\u001b[1;32m<ipython-input-25-3a30fe467a6c>\u001b[0m in \u001b[0;36m<module>\u001b[1;34m()\u001b[0m\n\u001b[0;32m      1\u001b[0m \u001b[1;32mfor\u001b[0m \u001b[0mline\u001b[0m \u001b[1;32min\u001b[0m \u001b[0maddress_lines\u001b[0m\u001b[1;33m:\u001b[0m\u001b[1;33m\u001b[0m\u001b[0m\n\u001b[0;32m      2\u001b[0m     \u001b[0maddress_stripped\u001b[0m \u001b[1;33m=\u001b[0m \u001b[0mline\u001b[0m\u001b[1;33m\u001b[0m\u001b[0m\n\u001b[1;32m----> 3\u001b[1;33m     \u001b[0mpostcode\u001b[0m \u001b[1;33m=\u001b[0m \u001b[0mre\u001b[0m\u001b[1;33m.\u001b[0m\u001b[0mfindall\u001b[0m\u001b[1;33m(\u001b[0m\u001b[1;34mr'\\b[A-Z]{1,2}[0-9][A-Z0-9]? [0-9][ABD-HJLNP-UW-Z]{2}\\b'\u001b[0m\u001b[1;33m,\u001b[0m \u001b[0mline\u001b[0m\u001b[1;33m)\u001b[0m\u001b[1;33m[\u001b[0m\u001b[1;36m0\u001b[0m\u001b[1;33m]\u001b[0m\u001b[1;33m\u001b[0m\u001b[0m\n\u001b[0m\u001b[0;32m      4\u001b[0m     \u001b[0mprint\u001b[0m\u001b[1;33m(\u001b[0m\u001b[0mpostcode\u001b[0m\u001b[1;33m)\u001b[0m\u001b[1;33m\u001b[0m\u001b[0m\n\u001b[0;32m      5\u001b[0m \u001b[1;33m\u001b[0m\u001b[0m\n",
      "\u001b[1;31mIndexError\u001b[0m: list index out of range"
     ]
    }
   ],
   "source": [
    "for line in address_lines:\n",
    "    address_stripped = line\n",
    "    postcode = re.findall(r'\\b[A-Z]{1,2}[0-9][A-Z0-9]? [0-9][ABD-HJLNP-UW-Z]{2}\\b', line)[0]\n",
    "    print(postcode)\n",
    "\n",
    "    address_stripped.replace(postcode, \"\")\n",
    "    print(address_stripped)\n",
    "    \n",
    "    \n",
    "        "
   ]
  },
  {
   "cell_type": "code",
   "execution_count": 21,
   "metadata": {},
   "outputs": [
    {
     "ename": "SyntaxError",
     "evalue": "invalid syntax (<ipython-input-21-76a35c0c16a6>, line 2)",
     "output_type": "error",
     "traceback": [
      "\u001b[1;36m  File \u001b[1;32m\"<ipython-input-21-76a35c0c16a6>\"\u001b[1;36m, line \u001b[1;32m2\u001b[0m\n\u001b[1;33m    for\u001b[0m\n\u001b[1;37m        ^\u001b[0m\n\u001b[1;31mSyntaxError\u001b[0m\u001b[1;31m:\u001b[0m invalid syntax\n"
     ]
    }
   ],
   "source": [
    "for line in address_lines:\n",
    "    for \n",
    "    \n",
    "    "
   ]
  },
  {
   "cell_type": "code",
   "execution_count": 26,
   "metadata": {
    "collapsed": true
   },
   "outputs": [],
   "source": [
    "line = '93B Kingscourt Road, London SW16 1JA'"
   ]
  },
  {
   "cell_type": "code",
   "execution_count": 31,
   "metadata": {},
   "outputs": [
    {
     "data": {
      "text/plain": [
       "'93B Kingscourt Road, London '"
      ]
     },
     "execution_count": 31,
     "metadata": {},
     "output_type": "execute_result"
    }
   ],
   "source": [
    "line.replace('SW16 1JA', \"\")"
   ]
  },
  {
   "cell_type": "code",
   "execution_count": null,
   "metadata": {
    "collapsed": true
   },
   "outputs": [],
   "source": []
  }
 ],
 "metadata": {
  "kernelspec": {
   "display_name": "Python 3",
   "language": "python",
   "name": "python3"
  },
  "language_info": {
   "codemirror_mode": {
    "name": "ipython",
    "version": 3
   },
   "file_extension": ".py",
   "mimetype": "text/x-python",
   "name": "python",
   "nbconvert_exporter": "python",
   "pygments_lexer": "ipython3",
   "version": "3.6.3"
  }
 },
 "nbformat": 4,
 "nbformat_minor": 2
}
